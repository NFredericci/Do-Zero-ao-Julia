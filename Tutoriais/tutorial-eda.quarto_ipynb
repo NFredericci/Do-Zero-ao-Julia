{
  "cells": [
    {
      "cell_type": "markdown",
      "metadata": {},
      "source": [
        "---\n",
        "title: \"Introdução à Análise Exploratória de Dados (EDA) em Julia\"\n",
        "description: |\n",
        "  Um guia completo e prático sobre como realizar Análise Exploratória de Dados (EDA) em Julia. Explore desde estatísticas descritivas, manipulação de dados, visualizações com Plots.jl, detecção de outliers e mais, com códigos prontos para aplicar nos seus projetos!\n",
        "categories:\n",
        "  - Aplicação\n",
        "  - Visualização de Dados\n",
        "author:\n",
        "  - name: Arthur Dionizio\n",
        "    affiliation: \"Universidade Estadual de Campinas\"\n",
        "    url: https://github.com/Arthur-Dionizio\n",
        "  - name: Henrique Velloso\n",
        "    affiliation: \"Universidade Estadual de Campinas\"\n",
        "    url: https://github.com/henriqueavelloso\n",
        "date: \"2025-11-05\"\n",
        "image: imagens/eda-em-julia.png\n",
        "lang: \"pt\"\n",
        "format:\n",
        "  html:\n",
        "    toc: true\n",
        "    self-contained: false\n",
        "draft: true\n",
        "---\n",
        "\n",
        "\n",
        "# Introdução\n",
        "\n",
        "A **Análise Exploratória de Dados (EDA)** é uma etapa fundamental na Ciência de Dados. Seu objetivo é entender a estrutura dos dados, identificar padrões, encontrar anomalias e formular hipóteses. Com a linguagem **julia**, voltada para alto desempenho e cálculo científico, a EDA pode ser feita de forma rápida e eficiente.\n",
        "\n",
        "## Benefícios de usar Julia para EDA\n",
        "\n",
        "- Desempenho comparável ao C\n",
        "- Sintaxe limpa e legível\n",
        "- Grande suporte para operações matemáticas e estatísticas\n",
        "- Ecossistema em crescimento com diversas bibliotecas voltadas para dados\n",
        "- Integração com outras linguagens como Python, R e C/C++\n",
        "\n",
        "# Preparando o Ambiente\n",
        "\n",
        "## Instalação de Pacotes Essenciais\n"
      ],
      "id": "92618225"
    },
    {
      "cell_type": "code",
      "metadata": {},
      "source": [
        "import Pkg\n",
        "\n",
        "# Suprime mensagens e warnings durante a instalação dos pacotes\n",
        "redirect_stdout(devnull) do\n",
        "    redirect_stderr(devnull) do\n",
        "        Pkg.add(\"RDatasets\")     # Datasets clássicos;\n",
        "        Pkg.add(\"StatsBase\")     # Estatísticas descritivas;\n",
        "        Pkg.add(\"StatsPlots\")    # Visualizações estatísticas;\n",
        "        Pkg.add(\"Distributions\") # Distribuições estatísticas;\n",
        "        Pkg.add(\"Random\")        # Geração de números aleatórios;\n",
        "        Pkg.add(\"DataFrames\")    # Estrutura tipo planilha;\n",
        "        Pkg.add(\"Plots\")         # Biblioteca de gráficos;\n",
        "        Pkg.add(\"Statistics\")    # Funções como mean, median, etc;\n",
        "        Pkg.add(\"Dates\")         # Manipulação de datas.\n",
        "        Pkg.add(\"Measures\")      # Formatação\n",
        "    end\n",
        "end\n",
        "\n",
        "# Obs.: Apenas precisamos carregar o pacote uma vez por ambiente."
      ],
      "id": "69558ef1",
      "execution_count": null,
      "outputs": []
    },
    {
      "cell_type": "markdown",
      "metadata": {},
      "source": [
        "> **Dica:** Use `Pkg.instantiate()` para garantir que todas as dependências do seu projeto estejam resolvidas.\n",
        "\n",
        "## Carregando um Conjunto de Dados\n"
      ],
      "id": "fc489677"
    },
    {
      "cell_type": "code",
      "metadata": {},
      "source": [
        "using RDatasets\n",
        "\n",
        "iris = dataset(\"datasets\", \"iris\")\n",
        "\n",
        "first(iris, 5) # Visualização inicial das 5 primeiras linhas do dataset."
      ],
      "id": "44d2a489",
      "execution_count": null,
      "outputs": []
    },
    {
      "cell_type": "markdown",
      "metadata": {},
      "source": [
        "O conjunto de dados **Iris** é um clássico da estatística e aprendizado de máquina. Ele contém medidas de sépalas e pétalas de três espécies de flores: Setosa, Versicolor e Virginica.\n",
        "\n",
        "# Estatísticas Descritivas\n",
        "\n",
        "Vejamos como calcular estatísticas sumárias em julia usando os pacotes _StatsBase_ e _Statistics_.\n"
      ],
      "id": "db167d0b"
    },
    {
      "cell_type": "code",
      "metadata": {},
      "source": [
        "using StatsBase, Statistics\n",
        "\n",
        "summarystats(iris.SepalWidth)\n",
        "\n",
        "# A função describe() também faz a mesma coisa.\n",
        "\n",
        "# Obs.: julia também possui funções padrão como mean(), median(), std(), var(), ..., etc."
      ],
      "id": "ee2ea989",
      "execution_count": null,
      "outputs": []
    },
    {
      "cell_type": "markdown",
      "metadata": {},
      "source": [
        "As principais medidas descritivas que podemos extrair incluem:\n",
        "\n",
        "- **Média e Mediana**: Tendência central\n",
        "\n",
        "- **Desvio-padrão e Variância**: Dispersão dos dados\n",
        "\n",
        "- **Intervalo Interquartil (IQR)**: Identifica outliers\n",
        "\n",
        "## Correlação entre variáveis\n"
      ],
      "id": "5ef94a0b"
    },
    {
      "cell_type": "code",
      "metadata": {},
      "source": [
        "# Calculando a correlação de Pearson entre duas variáveis numéricas, e depois descrevendo uma das colunas\n",
        "\n",
        "correlacao = cor(iris.SepalWidth, iris.SepalLength)\n",
        "println(\"Correlação entre SepalWidth e SepalLength: \", correlacao)"
      ],
      "id": "6740851b",
      "execution_count": null,
      "outputs": []
    },
    {
      "cell_type": "markdown",
      "metadata": {},
      "source": [
        "Aqui, vemos a **correlação de Pearson** para as variáveis _SepalWidth_ e _SepalLength_ usando a função `cor()`.\n",
        "\n",
        "# Manipulação de Dados\n",
        "\n",
        "Manipular o dataset é essencial para criar subconjuntos, transformar colunas e preparar os dados para análise. Usaremos os pacotes *Distributions*, *Random* e, mais importante, *DataFrames*.\n",
        "\n",
        "## Criando novas colunas\n"
      ],
      "id": "daebd581"
    },
    {
      "cell_type": "code",
      "metadata": {},
      "source": [
        "using Distributions, Random, DataFrames\n",
        "\n",
        "# Agora vamos adicionar uma nova coluna ao nosso dataset\n",
        "\n",
        "Random.seed!(123) # Tornando os resultados reprodutíveis\n",
        "\n",
        "iris.soma_col = iris.SepalWidth + iris.PetalWidth\n",
        "iris.normal_padrao = randn(150)\n",
        "iris.normal_modificada = rand(Normal(2, 0.5), 150)\n",
        "\n",
        "# Perceba que conseguimos criar uma normal padrão usando a função randn(), e modificar nossa média e desvio-padrão da distribuição usando a função Normal()\n",
        "\n",
        "first(iris, 5)"
      ],
      "id": "1c296d9a",
      "execution_count": null,
      "outputs": []
    },
    {
      "cell_type": "markdown",
      "metadata": {},
      "source": [
        "Caso queira adicionar uma nova coluna ao seu dataset, por exemplo, comparar a soma - largura da sépala com a largura da pétala - para cada flor, apenas nomeie a sua nova coluna no formato `dados.nova_coluna = nova_coluna`. É importante ressaltar que `len(nova_coluna) = len(dados.coluna_qualquer)`, ou seja, o tamanho **n** da coluna (150 observações, no nosso exemplo) tem que ser igual no dataset inteiro. \n",
        "\n",
        "## Filtragem de dados\n"
      ],
      "id": "43d49675"
    },
    {
      "cell_type": "code",
      "metadata": {},
      "source": [
        "# Agora vejamos como filtrar valores no nosso dataset\n",
        "\n",
        "flores_grandes = filter(row -> row.SepalLength > 7, iris) # Filtrando apenas as flores cuja sépala mede mais do que 7cm\n",
        "\n",
        "# flores_grandes1 = iris[iris.SepalLength .> 7, :] Outra forma de filtrar\n",
        "\n",
        "first(flores_grandes, 5)"
      ],
      "id": "ad0c2dd8",
      "execution_count": null,
      "outputs": []
    },
    {
      "cell_type": "markdown",
      "metadata": {},
      "source": [
        "Para filtrar nossos dados, podemos usar a função `filter()`, no formato `filter(row ou col -> condição, dados)` e assim criamos uma condição para filtrar as linhas do dataset. Uma alternativa seria usar o formato `dados[condição, :]`.\n",
        "\n",
        "## Agrupamento e seleção\n"
      ],
      "id": "16a19c51"
    },
    {
      "cell_type": "code",
      "metadata": {},
      "source": [
        "# Como selecionar e agrupar colunas\n",
        "\n",
        "selecao = select(iris, :SepalLength, :PetalWidth) # Selecionando colunas\n",
        "\n",
        "first(selecao, 5)"
      ],
      "id": "611f3bbf",
      "execution_count": null,
      "outputs": []
    },
    {
      "cell_type": "markdown",
      "metadata": {},
      "source": [
        "Selecionando as colunas _SepalLength_ e _PetalWidth_ para análise.\n"
      ],
      "id": "3374ad06"
    },
    {
      "cell_type": "code",
      "metadata": {},
      "source": [
        "grupo = groupby(iris, :Species) # Agrupando por categorias de uma colunas, nesse caso por espécie (virginica, setosa e versicolor)\n",
        "\n",
        "for df in grupo\n",
        "    display(first(df, 5))\n",
        "end"
      ],
      "id": "fbf9c9d5",
      "execution_count": null,
      "outputs": []
    },
    {
      "cell_type": "markdown",
      "metadata": {},
      "source": [
        "Dataframes agrupados por _Species_.\n",
        "\n",
        "## Aplicação de funções e ordenação\n"
      ],
      "id": "878309b4"
    },
    {
      "cell_type": "code",
      "metadata": {},
      "source": [
        "first(map(x -> log(x), iris.SepalLength), 10)"
      ],
      "id": "752624d4",
      "execution_count": null,
      "outputs": []
    },
    {
      "cell_type": "markdown",
      "metadata": {},
      "source": [
        "Aplicando a função `y = log(x)` para a coluna _SepalLength_, retornando o vetor de valores _y_.\n"
      ],
      "id": "320261d4"
    },
    {
      "cell_type": "code",
      "metadata": {},
      "source": [
        "first(sort(iris, :PetalLength), 10)"
      ],
      "id": "aa8ec000",
      "execution_count": null,
      "outputs": []
    },
    {
      "cell_type": "markdown",
      "metadata": {},
      "source": [
        "Ordenando o dataset com base no tamanho da pétala (PetalLength), em ordem crescente.\n",
        "\n",
        "> É importante lembrar que muitas dessas funções possuem muita importância durante o tratamento dos dados no início de uma análise, mas também durante a criação de gráficos e tabelas.\n",
        "\n",
        "# Visualização de Dados\n",
        "\n",
        "Agora vejamos como visualizar os nossos dados e variáveis de interesse através de gráficos!\n",
        "\n",
        "## Histogramas e Scatterplots\n"
      ],
      "id": "f4b5746b"
    },
    {
      "cell_type": "code",
      "metadata": {},
      "source": [
        "using Plots\n",
        "using Measures\n",
        "\n",
        "plot(\n",
        "    histogram(iris.SepalWidth, title=\"Distribuição da Largura da Sépala\", xlabel=\"Largura\", ylabel=\"Frequência\", margin=5mm, label=\"\"),\n",
        "    scatter(iris.PetalWidth, iris.PetalLength, title=\"Largura x Comprimento da Pétala\", xlabel=\"Largura\", ylabel=\"Comprimento\", margin=5mm, label=\"\"),\n",
        "    layout=(1, 2),\n",
        "    size=(900, 400)\n",
        ")\n",
        "\n",
        "# Criando histogramas e scatterplots para visualizar a distribuição dos dados"
      ],
      "id": "9c866fd1",
      "execution_count": null,
      "outputs": []
    },
    {
      "cell_type": "markdown",
      "metadata": {},
      "source": [
        "**Gráficos de dispersão** (*scatterplots*) são úteis para visualizar a relação entre duas variáveis contínuas, enquanto **histogramas** ajudam a entender a distribuição de uma única variável. Vamos agora aprender filtrar e selecionar os dados que queremos visualizar. \n"
      ],
      "id": "8ceafd6c"
    },
    {
      "cell_type": "code",
      "metadata": {},
      "source": [
        "using StatsPlots\n",
        "\n",
        "# Filtrando apenas as linhas com Species == \"virginica\"\n",
        "virginica = filter(row -> row.Species == \"virginica\", iris)\n",
        "\n",
        "# Selecionando apenas as colunas de interesse, nesse caso SepalWidth e PetalLength\n",
        "\n",
        "dados_virg = select(virginica, :SepalWidth, :PetalLength)\n",
        "\n",
        "# Scatterplot\n",
        "scatter(dados_virg.SepalWidth, dados_virg.PetalLength,\n",
        "        xlabel = \"SepalWidth\",\n",
        "        ylabel = \"PetalLength\",\n",
        "        title = \"Virginica: SepalWidth vs PetalLength\",\n",
        "        legend = false)"
      ],
      "id": "206f43fa",
      "execution_count": null,
      "outputs": []
    },
    {
      "cell_type": "markdown",
      "metadata": {},
      "source": [
        "## Boxplots e Gráficos de Barras\n"
      ],
      "id": "1b517b1c"
    },
    {
      "cell_type": "code",
      "metadata": {},
      "source": [
        "using DataFrames, StatsPlots\n",
        "\n",
        "# Criando boxplots e gráficos de barras para visualizar a distribuição dos dados\n",
        "\n",
        "box = boxplot(iris.Species, iris.SepalLength, xlabel=\"Espécie\", ylabel=\"Comprimento da Sépala\", title=\"Boxplot do SepalLength por Espécie\", label=\"\")\n",
        "\n",
        "# Agrupando por espécie e calculando a média do comprimento da pétala\n",
        "resumo = combine(groupby(iris, :Species), :SepalWidth => mean => :MediaSepalWidth)\n",
        "\n",
        "# Gráfico de barras\n",
        "barras = bar(resumo.Species, resumo.MediaSepalWidth,\n",
        "    xlabel = \"Espécie\",\n",
        "    ylabel = \"Média do SepalWidth\",\n",
        "    title = \"Média da SepalWidth por Espécie\",\n",
        "    legend = false)\n",
        "\n",
        "plot(box, barras, layout=(1, 2), size=(800, 400))"
      ],
      "id": "d6ba6002",
      "execution_count": null,
      "outputs": []
    },
    {
      "cell_type": "code",
      "metadata": {},
      "source": [
        "using DataFrames, StatsPlots\n",
        "\n",
        "# Agrupando por espécie e calculando a média do comprimento da pétala\n",
        "resumo = combine(groupby(iris, :Species), :SepalLength => mean => :MediaSepalLength)\n",
        "\n",
        "# Gráfico de barras\n",
        "bar(resumo.Species, resumo.MediaSepalLength,\n",
        "    xlabel = \"Espécie\",\n",
        "    ylabel = \"Média do SepalLength\",\n",
        "    title = \"Média do Comprimento da Sépala por Espécie\",\n",
        "    legend = false)"
      ],
      "id": "2ab67af7",
      "execution_count": null,
      "outputs": []
    },
    {
      "cell_type": "markdown",
      "metadata": {},
      "source": [
        "**Boxplots** são ótimos para visualizar a **dispersão** e identificar *outliers*, enquanto **gráficos de barras** ajudam a entender a **frequência** de categorias. Vamos agora agrupar os dados e visualizar mais de uma variável.\n"
      ],
      "id": "7e6976fe"
    },
    {
      "cell_type": "code",
      "metadata": {},
      "source": [
        "using DataFrames, StatsPlots, Statistics\n",
        "\n",
        "# Agrupando os dados e calculando suas medianas\n",
        "\n",
        "df_bar = combine(groupby(iris, :Species),\n",
        "    :PetalWidth => median,\n",
        "    :PetalLength => median\n",
        ")\n",
        "\n",
        "# Organizando os dados\n",
        "\n",
        "y = Matrix(select(df_bar, Not(:Species))) \n",
        "x = df_bar.Species                             \n",
        "\n",
        "groupedbar(\n",
        "    x,\n",
        "    y,\n",
        "    bar_position = :dodge,\n",
        "    xlabel = \"Espécie\",\n",
        "    ylabel = \"Mediana\",\n",
        "    title = \"Mediana de PetalWidth e PetalLength por Espécie\",\n",
        "    label = [\"PetalWidth\" \"PetalLength\"],\n",
        "    bar_width = 0.6,\n",
        "    lw = 0,\n",
        "    framestyle = :box\n",
        ")"
      ],
      "id": "699f3ae8",
      "execution_count": null,
      "outputs": []
    },
    {
      "cell_type": "markdown",
      "metadata": {},
      "source": [
        "Aqui, separamos a mediana do comprimento e largura da pétala (*PetalLength* e *PetalWidth*) para cada espécie, assim conseguindo visualizar conjuntamente a medida dessas variáveis em diferentes grupos.\n",
        "\n",
        "## Matriz de Correlação (Heatmap)\n"
      ],
      "id": "c9e92b26"
    },
    {
      "cell_type": "code",
      "metadata": {},
      "source": [
        "using StatsPlots\n",
        "\n",
        "# Criando uma matriz de correlação e visualizando com um heatmap\n",
        "\n",
        "dados_num = Matrix(iris[:, 1:4])\n",
        "cor_matriz = cor(dados_num)\n",
        "var_nomes = names(iris)[1:4]\n",
        "\n",
        "# Plotando a matriz de correlação\n",
        "\n",
        "heatmap(\n",
        "    cor_matriz,\n",
        "    xticks=(1:4, var_nomes),\n",
        "    yticks=(1:4, var_nomes),\n",
        "    title=\"Matriz de Correlação\",\n",
        "    color=:blues,\n",
        "    size=(600, 500)\n",
        ")"
      ],
      "id": "dcc260b9",
      "execution_count": null,
      "outputs": []
    },
    {
      "cell_type": "markdown",
      "metadata": {},
      "source": [
        "A **matriz de correlação** é uma ferramenta poderosa para entender a **relação** entre variáveis. O *heatmap* ajuda a visualizar essas correlações de forma intuitiva.\n",
        "\n",
        "## Q-Q Plot (Normalidade)\n"
      ],
      "id": "c04174c5"
    },
    {
      "cell_type": "code",
      "metadata": {},
      "source": [
        "using Distributions, StatsPlots\n",
        "\n",
        "# Usando o pacote StatsPlots para criar um Q-Q plot\n",
        "\n",
        "qqplot(Normal(), iris.PetalLength,\n",
        "       xlabel=\"Quantis Teóricos\",\n",
        "       ylabel=\"Quantis Amostrais\",\n",
        "       title=\"Q-Q Plot de PetalLength\")"
      ],
      "id": "16e9b349",
      "execution_count": null,
      "outputs": []
    },
    {
      "cell_type": "markdown",
      "metadata": {},
      "source": [
        "**Q-Q plots** são úteis para verificar a **normalidade** dos dados. Se os pontos seguirem a linha reta, os dados possivelmente seguem uma distribuição normal. Nesse caso, vemos que a variável _PetalLength_ muito provavelmente não segue uma distribuição Normal.\n",
        "\n",
        "## Série Temporal (Sintética)\n"
      ],
      "id": "d2143889"
    },
    {
      "cell_type": "code",
      "metadata": {},
      "source": [
        "using Dates\n",
        "\n",
        "# Gerando uma série temporal sintética\n",
        "\n",
        "datas = Date(2024,1,1):Day(1):Date(2024,12,31)\n",
        "valores = cumsum(randn(length(datas))) .+ 100\n",
        "\n",
        "# Plotando a série temporal\n",
        "\n",
        "plot(datas, valores,\n",
        "     xlabel=\"Data\", ylabel=\"Valor\",\n",
        "     title=\"Série Temporal Sintética\",\n",
        "     linewidth=2, label=\"\")"
      ],
      "id": "e05f1c07",
      "execution_count": null,
      "outputs": []
    },
    {
      "cell_type": "markdown",
      "metadata": {},
      "source": [
        "Por último, criamos uma **série temporal** sintética para ilustrar como visualizar dados ao longo do tempo. A função `cumsum()` é usada para criar uma série acumulada, e o gráfico mostra a evolução dos valores ao longo do ano.\n",
        "\n",
        "# Considerações Finais\n",
        "\n",
        "A **Análise Exploratória de Dados** (EDA) é uma etapa crucial para entender os dados e preparar o caminho para análises mais profundas. A linguagem **julia**, com sua sintaxe clara e desempenho elevado, é uma excelente escolha para essa tarefa.\n",
        "\n",
        "> **Explore mais:** experimente outros pacotes como `CSV.jl` para ler arquivos externos, `GLM.jl` para regressão, e `Gadfly.jl` para visualizações mais elaboradas."
      ],
      "id": "85664583"
    }
  ],
  "metadata": {
    "kernelspec": {
      "name": "julia-1.11",
      "language": "julia",
      "display_name": "Julia 1.11.3",
      "path": "/Users/ctrucios/Library/Jupyter/kernels/julia-1.11"
    }
  },
  "nbformat": 4,
  "nbformat_minor": 5
}